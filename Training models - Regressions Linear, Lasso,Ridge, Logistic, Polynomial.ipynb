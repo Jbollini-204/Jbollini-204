{
 "cells": [
  {
   "cell_type": "markdown",
   "id": "aa9d7328",
   "metadata": {},
   "source": [
    "## Training Models :\n",
    "### Linear Regression, Lasso, Ridge, Logistic Regression, polynomial Regression, Softmax\n",
    "### Gradient Descent : Batch GD, Mini-batch GD and Stochastic GD (iterative optimization approach).\n",
    "\n",
    "#### Josefina Bollini - Data mining principles\n",
    "#### Based on chapter 3  : 'Hands-On Machine Learning with Scikit-Learn & TensorFlow'"
   ]
  },
  {
   "cell_type": "markdown",
   "id": "bca2af40",
   "metadata": {},
   "source": [
    "## Linear Regression"
   ]
  },
  {
   "cell_type": "code",
   "execution_count": 14,
   "id": "8f49ca23",
   "metadata": {},
   "outputs": [
    {
     "data": {
      "text/plain": [
       "array([[4.07800121],\n",
       "       [9.87434388]])"
      ]
     },
     "execution_count": 14,
     "metadata": {},
     "output_type": "execute_result"
    }
   ],
   "source": [
    "from sklearn.linear_model import LinearRegression\n",
    "import numpy as np\n",
    "\n",
    "#Generate some linear looking data to test the Regression\n",
    "\n",
    "X = 2 * np.random.rand(100, 1)\n",
    "y = 4 + 3 * X + np.random.randn(100, 1)\n",
    "X_new = np.array([[0], [2]])\n",
    "\n",
    "lin_reg = LinearRegression()\n",
    "lin_reg.fit(X, y)\n",
    "lin_reg.intercept_, lin_reg.coef_\n",
    "lin_reg.predict(X_new)"
   ]
  },
  {
   "cell_type": "markdown",
   "id": "81663740",
   "metadata": {},
   "source": [
    "When we have a large number of features, it could be useful to use :\n",
    "### Gradient Descent\n",
    "Generic optimization algorithm capabel of finding optimal solutions. We will tweak the parameters iteratively to minimize the cost function. Start with random parameters (random inizialization) and improve it gradually one step at the time always decreasing the cost function. Finally the algorithm will converge to the minimum.\n",
    "\n",
    "We need to define the size f the steps or called learning rate. If too small then we will need many iterations to converge. but if its to high you might be on a higher cost than before and never getting to the minimum. \n",
    "\n",
    "For example, MSE function for linear regression is aconvex function which means there is no local minima just one global.So GD is garanteed to find the global minimum.\n",
    "\n",
    "#### Batch GD: \n",
    "We need to conpute the gradent of the cost function using patial derivatives. All of them can be calculated together in the gradient vector noted ∇θMSE(θ). It is very slow as we use in every step all the training data. Although is still better than not using gardient descent\n"
   ]
  },
  {
   "cell_type": "code",
   "execution_count": 19,
   "id": "52ba6ec0",
   "metadata": {},
   "outputs": [
    {
     "data": {
      "text/plain": [
       "array([[4.07800121],\n",
       "       [2.89817134]])"
      ]
     },
     "execution_count": 19,
     "metadata": {},
     "output_type": "execute_result"
    }
   ],
   "source": [
    "eta = 0.1 # learning rate\n",
    "n_iterations = 1000\n",
    "m = 100\n",
    "X_b = np.c_[np.ones((100, 1)), X] # add x0 = 1 to each instance\n",
    "theta = np.random.randn(2,1) # random initialization\n",
    "for iteration in range(n_iterations):\n",
    "    gradients = 2/m * X_b.T.dot(X_b.dot(theta) - y)\n",
    "    theta = theta - eta * gradients\n",
    "    \n",
    "theta"
   ]
  },
  {
   "cell_type": "markdown",
   "id": "d36c112b",
   "metadata": {},
   "source": [
    "We have to make sure the learning rate is properly defined. \n",
    "If its too low, the algorithm will eventualy reach the solution ( in this LR because of the convexity of MSE function) but it will take longer. If too high, we might skip the optima. \n",
    "\n",
    "A good Learning rate can be found using GridSearch\n",
    "\n",
    "Number of iterations: \n",
    "if too low, you might not find the optima\n",
    "if too high its a watse\n",
    "Solution: use very large number but interrupt the algorithm when the vector becomes tiny (tolerance)"
   ]
  },
  {
   "cell_type": "code",
   "execution_count": 21,
   "id": "7c0d7804",
   "metadata": {},
   "outputs": [
    {
     "data": {
      "text/plain": [
       "array([[4.11743128],\n",
       "       [2.83282894]])"
      ]
     },
     "execution_count": 21,
     "metadata": {},
     "output_type": "execute_result"
    }
   ],
   "source": [
    "# Stochastic GD:\n",
    "# Some instances might been picked more than once, and other none. \n",
    "# Shuffling the training every round set could help\n",
    "n_epochs = 50 # number of iterations\n",
    "t0, t1 = 5, 50 # learning schedule hyperparameters\n",
    "def learning_schedule(t):\n",
    "    return t0 / (t + t1)\n",
    "theta = np.random.randn(2,1) # random initialization\n",
    "for epoch in range(n_epochs):\n",
    "    for i in range(m):\n",
    "        random_index = np.random.randint(m)\n",
    "        xi = X_b[random_index:random_index+1]\n",
    "        yi = y[random_index:random_index+1]\n",
    "        gradients = 2 * xi.T.dot(xi.dot(theta) - yi)\n",
    "        eta = learning_schedule(epoch * m + i)\n",
    "        theta = theta - eta * gradients\n",
    "theta"
   ]
  },
  {
   "cell_type": "markdown",
   "id": "c8fdcf68",
   "metadata": {},
   "source": [
    "#### Stochastic Gradient Descent \n",
    "Picks a random instance in the training set at every step and computes gradients only based on that observation. The algorithm is much faster , but is less regular, the cost function will bounce up and down decresing only on average. The result is something very close to the minimum but not optimal. this one works better when the cost function is irregular. \n",
    "\n",
    "We can also, decrease the learning rate iteration by iteration. So the steps get smaller and smaller so as the algorithm settle at the global minima. The steps are done depending on the 'learning schedule'. "
   ]
  },
  {
   "cell_type": "code",
   "execution_count": 23,
   "id": "33f86a7d",
   "metadata": {},
   "outputs": [
    {
     "data": {
      "text/plain": [
       "(array([4.06508444]), array([2.95974361]))"
      ]
     },
     "execution_count": 23,
     "metadata": {},
     "output_type": "execute_result"
    }
   ],
   "source": [
    "# Regression + Gradient Descent in Scikit learn\n",
    "# run 50 epochs , starting at 0.1 learning rate \n",
    "# the default learning schedule is ’invscaling’: eta = eta0 / pow(t, power_t)\n",
    "# other option is 'constant' eta=eta0\n",
    "from sklearn.linear_model import SGDRegressor\n",
    "sgd_reg = SGDRegressor(max_iter=50, penalty=None, eta0=0.1)\n",
    "sgd_reg.fit(X, y.ravel())\n",
    "sgd_reg.intercept_, sgd_reg.coef_"
   ]
  },
  {
   "cell_type": "markdown",
   "id": "c83b74f4",
   "metadata": {},
   "source": [
    "#### Mini-batch Gradient Descent \n",
    "\n",
    "at each step, instead of computing the gradients based on the full training\n",
    "set (as in Batch GD) or based on just one instance (as in Stochastic GD), Mini-batch GD computes the gradients on small random sets of instances called minibatches."
   ]
  },
  {
   "cell_type": "markdown",
   "id": "a67a90f5",
   "metadata": {},
   "source": [
    "### Polynomial Regression\n",
    "If the data is not a stright line, you can still use a linear model to fit nonlinear data. Adding power of each featyre as new feature and then train a linear model on this extended set of features. "
   ]
  },
  {
   "cell_type": "code",
   "execution_count": 26,
   "id": "cd309424",
   "metadata": {},
   "outputs": [],
   "source": [
    "m = 100\n",
    "# generate nonlinear data - juts using quadratic equation\n",
    "X = 6 * np.random.rand(m, 1) - 3\n",
    "y = 0.5 * X**2 + X + 2 + np.random.randn(m, 1)"
   ]
  },
  {
   "cell_type": "code",
   "execution_count": 27,
   "id": "76d0bdcf",
   "metadata": {},
   "outputs": [
    {
     "data": {
      "image/png": "[encoded data removed]",
      "text/plain": [
       "<Figure size 432x288 with 1 Axes>"
      ]
     },
     "metadata": {
      "needs_background": "light"
     },
     "output_type": "display_data"
    }
   ],
   "source": [
    "import matplotlib.pyplot as plt \n",
    "plt.scatter(X, y)\n",
    "plt.show()"
   ]
  },
  {
   "cell_type": "code",
   "execution_count": 30,
   "id": "a68973ce",
   "metadata": {},
   "outputs": [],
   "source": [
    "# For transforming and trainign the data :\n",
    "from sklearn.preprocessing import PolynomialFeatures\n",
    "poly_features = PolynomialFeatures(degree=2, include_bias=False)\n",
    "X_poly = poly_features.fit_transform(X) # X_poly now includes the square of the features\n"
   ]
  },
  {
   "cell_type": "code",
   "execution_count": 31,
   "id": "ec3ef5e9",
   "metadata": {},
   "outputs": [
    {
     "data": {
      "text/plain": [
       "(array([1.91519261]), array([[1.01536783, 0.48718703]]))"
      ]
     },
     "execution_count": 31,
     "metadata": {},
     "output_type": "execute_result"
    }
   ],
   "source": [
    "# Fitting the linear regression:\n",
    "lin_reg = LinearRegression()\n",
    "lin_reg.fit(X_poly, y)\n",
    "lin_reg.intercept_, lin_reg.coef_"
   ]
  },
  {
   "cell_type": "code",
   "execution_count": 35,
   "id": "e2183576",
   "metadata": {},
   "outputs": [],
   "source": [
    "# Learning Curves : plots that show the models performance on the training set and validation set \n",
    "# as a funtion of the training set size\n",
    "from sklearn.metrics import mean_squared_error\n",
    "from sklearn.model_selection import train_test_split\n",
    "\n",
    "# Train the model several times on different sized subsets of the training set\n",
    "def plot_learning_curves(model, X, y):\n",
    "    X_train, X_val, y_train, y_val = train_test_split(X, y, test_size=0.2)\n",
    "    train_errors, val_errors = [], []\n",
    "    for m in range(1, len(X_train)):\n",
    "        model.fit(X_train[:m], y_train[:m])\n",
    "        y_train_predict = model.predict(X_train[:m])\n",
    "        y_val_predict = model.predict(X_val)\n",
    "        train_errors.append(mean_squared_error(y_train_predict, y_train[:m]))\n",
    "        val_errors.append(mean_squared_error(y_val_predict, y_val))\n",
    "    plt.plot(np.sqrt(train_errors), \"r-+\", linewidth=2, label=\"train\")\n",
    "    plt.plot(np.sqrt(val_errors), \"b-\", linewidth=3, label=\"val\")"
   ]
  },
  {
   "cell_type": "code",
   "execution_count": 36,
   "id": "ae9e0a99",
   "metadata": {},
   "outputs": [
    {
     "data": {
      "image/png": "[encoded data removed]",
      "text/plain": [
       "<Figure size 432x288 with 1 Axes>"
      ]
     },
     "metadata": {
      "needs_background": "light"
     },
     "output_type": "display_data"
    }
   ],
   "source": [
    "lin_reg = LinearRegression()\n",
    "plot_learning_curves(lin_reg, X, y)"
   ]
  },
  {
   "cell_type": "markdown",
   "id": "845c548c",
   "metadata": {},
   "source": [
    "When the model is trained in very few training instances, it is capable of generalizing properly which is why and that is why the validation error is big. Then as the model is shown more training examples, it learns and the validation error slowly goes down. "
   ]
  },
  {
   "cell_type": "code",
   "execution_count": 37,
   "id": "589cb1eb",
   "metadata": {},
   "outputs": [
    {
     "data": {
      "image/png": "[encoded data removed]",
      "text/plain": [
       "<Figure size 432x288 with 1 Axes>"
      ]
     },
     "metadata": {
      "needs_background": "light"
     },
     "output_type": "display_data"
    }
   ],
   "source": [
    "# 10 degree polinomial model on the same data\n",
    "from sklearn.pipeline import Pipeline\n",
    "polynomial_regression = Pipeline((\n",
    "    (\"poly_features\", PolynomialFeatures(degree=10, include_bias=False)),\n",
    "    (\"sgd_reg\", LinearRegression()),\n",
    "    ))\n",
    "plot_learning_curves(polynomial_regression, X, y)"
   ]
  },
  {
   "cell_type": "markdown",
   "id": "47700029",
   "metadata": {},
   "source": [
    "The error on the training dtaa is much lower than with only Linear Regression. the gap is also smaller.Which is a sigg of overfitting . \n",
    "#### One way to improve an overfitting model is to feed it more training data until the validation error reaches the training error"
   ]
  },
  {
   "cell_type": "markdown",
   "id": "ac762cc4",
   "metadata": {},
   "source": [
    "### The Bias-Variance Trade off\n",
    "\n",
    "A model's generalization error is the sum of:\n",
    "\n",
    "1. BIAS: Result of wrong assumptions. For example when we assume the data is linear and its quadratic. A high bias model is more likely to underfit.\n",
    "\n",
    "2. VARIANCE: Result of model's sensitivity to small variations in the training data. The higher degrees of freedon the higher variance, and there is a risk of overfitting\n",
    "\n",
    "3. IRREDUCIBLE ERROR: Result of noise in the data. can only be reduced by cleaning the data .\n",
    "\n",
    "#### Increasing complexity reduces bias but increases variance, and vice versa.\n"
   ]
  },
  {
   "cell_type": "markdown",
   "id": "ae185adc",
   "metadata": {},
   "source": [
    "### Regularized Linear models \n",
    "Constraining the weights of the model\n",
    "Ridge Regression - Lasso Regression - Elastic Net"
   ]
  },
  {
   "cell_type": "markdown",
   "id": "7de52c1d",
   "metadata": {},
   "source": [
    "#### Ridge Regression\n",
    "a regularization term is added to the cost function (MSE) so the learning algorithm fits the data but also keep the weights as small as possible. this term should only be added during training. The validation should be done using the unregularized measure\n",
    "\n",
    "Hyperparameter = Alpha, if alpha = 0 then is a linear regression\n",
    "We should always scale the data as it is sensitive to the scale of the input features\n"
   ]
  },
  {
   "cell_type": "code",
   "execution_count": 40,
   "id": "10e32486",
   "metadata": {},
   "outputs": [
    {
     "data": {
      "text/plain": [
       "array([[4.86082422]])"
      ]
     },
     "execution_count": 40,
     "metadata": {},
     "output_type": "execute_result"
    }
   ],
   "source": [
    "from sklearn.linear_model import Ridge\n",
    "ridge_reg = Ridge(alpha=1, solver=\"auto\") # Auto choose the best accordign to the data - is the default\n",
    "# solver{‘auto’, ‘svd’, ‘cholesky’, ‘lsqr’, ‘sparse_cg’, ‘sag’, ‘saga’, ‘lbfgs’}, default=’auto’\n",
    "# ‘cholesky’ uses the standard scipy.linalg.solve function to obtain a closed-form solution.\n",
    "ridge_reg.fit(X, y)\n",
    "ridge_reg.predict([[1.5]])"
   ]
  },
  {
   "cell_type": "code",
   "execution_count": 39,
   "id": "7d32a574",
   "metadata": {},
   "outputs": [
    {
     "data": {
      "text/plain": [
       "array([4.81932953])"
      ]
     },
     "execution_count": 39,
     "metadata": {},
     "output_type": "execute_result"
    }
   ],
   "source": [
    "# adding the stochastic GD:\n",
    "sgd_reg = SGDRegressor(penalty=\"l2\") # penalty hyperparameter is the regularization to use. l2 is l2 norm (Ridge)\n",
    "sgd_reg.fit(X, y.ravel())\n",
    "sgd_reg.predict([[1.5]])"
   ]
  },
  {
   "cell_type": "markdown",
   "id": "87bb4188",
   "metadata": {},
   "source": [
    "#### Lasso Regression\n",
    "Least Absolute shrinkage and selection operator Regression \n",
    "Also adds a regularization term to the cost function but using l1 norm \n",
    "\n",
    "Something interesting to know: Lasso Reg tends to eliminate weights on the least important features. "
   ]
  },
  {
   "cell_type": "code",
   "execution_count": 41,
   "id": "bcef3ade",
   "metadata": {},
   "outputs": [
    {
     "data": {
      "text/plain": [
       "array([4.81951478])"
      ]
     },
     "execution_count": 41,
     "metadata": {},
     "output_type": "execute_result"
    }
   ],
   "source": [
    "from sklearn.linear_model import Lasso\n",
    "lasso_reg = Lasso(alpha=0.1)\n",
    "lasso_reg.fit(X, y)\n",
    "lasso_reg.predict([[1.5]])"
   ]
  },
  {
   "cell_type": "markdown",
   "id": "9ef960ef",
   "metadata": {},
   "source": [
    "#### Elastic Net\n",
    "Something in the middle between ridge and lasso.\n",
    "Regularization term is a mix of both, the user can control the ratio of each.\n",
    "\n",
    "r = 0 ---> Ridge\n",
    "\n",
    "r = 1 ---> Lasso\n",
    "\n",
    "Which one to use? Generally you wanna choose at least one. Ridge is a good defaultbut if you think only few features are useful, maybe lasso is better. Elastic net is generally preffered to Lasso "
   ]
  },
  {
   "cell_type": "code",
   "execution_count": 42,
   "id": "2f6a7b50",
   "metadata": {},
   "outputs": [
    {
     "data": {
      "text/plain": [
       "array([4.82105771])"
      ]
     },
     "execution_count": 42,
     "metadata": {},
     "output_type": "execute_result"
    }
   ],
   "source": [
    "from sklearn.linear_model import ElasticNet\n",
    "elastic_net = ElasticNet(alpha=0.1, l1_ratio=0.5)\n",
    "elastic_net.fit(X, y)\n",
    "elastic_net.predict([[1.5]])"
   ]
  },
  {
   "cell_type": "markdown",
   "id": "313450b4",
   "metadata": {},
   "source": [
    "### Logistic Regression\n",
    "\n",
    "Used to estimate the probability that an instance belongs to a particular class. \n",
    "If the estimated prb > 0.5 ---> positive class  = 1\n",
    "Is a binary identifier\n",
    "The objective is to find a set of parameter vector theta so that the model estimates high probabilities for positive instances and and low probabilities for negative instances.\n",
    "\n",
    "Its cost function is convex, so GD is guaranteed to find its global minimum.\n",
    "Using the iris dataset, we can use logistic regression to detect Iris-Virginica based only on the petal width:"
   ]
  },
  {
   "cell_type": "code",
   "execution_count": 2,
   "id": "a51b69d1",
   "metadata": {},
   "outputs": [
    {
     "name": "stderr",
     "output_type": "stream",
     "text": [
      "/var/folders/tr/q_709j197n3f6py54vpmh1tw0000gn/T/ipykernel_47523/3381727819.py:7: DeprecationWarning: `np.int` is a deprecated alias for the builtin `int`. To silence this warning, use `int` by itself. Doing this will not modify any behavior and is safe. When replacing `np.int`, you may wish to use e.g. `np.int64` or `np.int32` to specify the precision. If you wish to review your current use, check the release note link for additional information.\n",
      "Deprecated in NumPy 1.20; for more details and guidance: https://numpy.org/devdocs/release/1.20.0-notes.html#deprecations\n",
      "  y = (iris[\"target\"] == 2).astype(np.int) # 1 if Iris-Virginica, else 0\n"
     ]
    }
   ],
   "source": [
    "import numpy as np\n",
    "import pandas as pd\n",
    "from sklearn import datasets\n",
    "iris = datasets.load_iris()\n",
    "list(iris.keys())\n",
    "X = iris[\"data\"][:, 3:] # petal width\n",
    "y = (iris[\"target\"] == 2).astype(np.int) # 1 if Iris-Virginica, else 0"
   ]
  },
  {
   "cell_type": "code",
   "execution_count": 3,
   "id": "1bc85c0d",
   "metadata": {},
   "outputs": [
    {
     "data": {
      "text/plain": [
       "LogisticRegression()"
      ]
     },
     "execution_count": 3,
     "metadata": {},
     "output_type": "execute_result"
    }
   ],
   "source": [
    "from sklearn.linear_model import LogisticRegression\n",
    "log_reg = LogisticRegression()\n",
    "log_reg.fit(X, y)"
   ]
  },
  {
   "cell_type": "code",
   "execution_count": 5,
   "id": "39f0cfdd",
   "metadata": {},
   "outputs": [
    {
     "data": {
      "text/plain": [
       "[<matplotlib.lines.Line2D at 0x7fa146010160>]"
      ]
     },
     "execution_count": 5,
     "metadata": {},
     "output_type": "execute_result"
    },
    {
     "data": {
      "image/png": "[encoded data removed]",
      "text/plain": [
       "<Figure size 432x288 with 1 Axes>"
      ]
     },
     "metadata": {
      "needs_background": "light"
     },
     "output_type": "display_data"
    }
   ],
   "source": [
    "import matplotlib.pyplot as plt \n",
    "X_new = np.linspace(0, 3, 1000).reshape(-1, 1)\n",
    "y_proba = log_reg.predict_proba(X_new)\n",
    "plt.plot(X_new, y_proba[:, 1], \"g-\", label=\"Iris-Virginica\")\n",
    "plt.plot(X_new, y_proba[:, 0], \"b--\", label=\"Not Iris-Virginica\")"
   ]
  },
  {
   "cell_type": "markdown",
   "id": "0f7150bc",
   "metadata": {},
   "source": [
    "Decision boundaru when lines cross. even though there is an overlap in observations, (the Iris Virginica flowers with bigger petals and the others with smallest petals). above 2 cm the classifier gets pretty confident that it can identify the Virginicas (High probability) and lower than 1cm its very confident that is not Virginica. In the middle, the classifier is unsure."
   ]
  },
  {
   "cell_type": "code",
   "execution_count": 12,
   "id": "5aeee503",
   "metadata": {},
   "outputs": [
    {
     "data": {
      "text/plain": [
       "array([1, 0])"
      ]
     },
     "execution_count": 12,
     "metadata": {},
     "output_type": "execute_result"
    }
   ],
   "source": [
    "log_reg.predict([[1.67], [1.5]])\n",
    "# probability if a new flower is a virginica given that I know the petal length\n",
    "# bound at = 1.66"
   ]
  },
  {
   "cell_type": "markdown",
   "id": "27a363f5",
   "metadata": {},
   "source": [
    "### Softmax Regression or Multinomial Logistic Regression ( Generalized model for multi classes)\n",
    "In any cases, is multi class but not multi output. It will still predicts the obs to belong to one class and not all others. "
   ]
  },
  {
   "cell_type": "markdown",
   "id": "17e32c3f",
   "metadata": {},
   "source": [
    "When given an instance x, the Softmax Regression model\n",
    "first computes a score sk(x) for each class k, then estimates the probability of each\n",
    "class by applying the softmax function (also called the normalized exponential) to the\n",
    "scores. The equation to compute sk(x) should look familiar, as it is just like the equation\n",
    "for Linear Regression prediction. Just like the Logistic Regression classifier, the Softmax Regression classifier predicts\n",
    "the class with the highest estimated probability (which is simply the class with the\n",
    "highest score)"
   ]
  },
  {
   "cell_type": "code",
   "execution_count": 13,
   "id": "e08627d5",
   "metadata": {},
   "outputs": [
    {
     "data": {
      "text/plain": [
       "LogisticRegression(C=10, multi_class='multinomial')"
      ]
     },
     "execution_count": 13,
     "metadata": {},
     "output_type": "execute_result"
    }
   ],
   "source": [
    "# we can use Softmax to classify the 3 kind of flowers using multi_class = 'Multinomial'\n",
    "X = iris[\"data\"][:, (2, 3)] # petal length, petal width\n",
    "y = iris[\"target\"]\n",
    "\n",
    "# we should also specify the solver \n",
    "# more info about solvers: https://scikit-learn.org/stable/modules/linear_model.html#logistic-regression\n",
    "softmax_reg = LogisticRegression(multi_class=\"multinomial\",solver=\"lbfgs\", C=10)\n",
    "softmax_reg.fit(X, y)"
   ]
  },
  {
   "cell_type": "code",
   "execution_count": 14,
   "id": "32b86e38",
   "metadata": {},
   "outputs": [
    {
     "data": {
      "text/plain": [
       "array([2])"
      ]
     },
     "execution_count": 14,
     "metadata": {},
     "output_type": "execute_result"
    }
   ],
   "source": [
    "softmax_reg.predict([[5, 2]])"
   ]
  },
  {
   "cell_type": "code",
   "execution_count": 15,
   "id": "72b7c87c",
   "metadata": {},
   "outputs": [
    {
     "data": {
      "text/plain": [
       "array([[6.38014896e-07, 5.74929995e-02, 9.42506362e-01]])"
      ]
     },
     "execution_count": 15,
     "metadata": {},
     "output_type": "execute_result"
    }
   ],
   "source": [
    "softmax_reg.predict_proba([[5, 2]])"
   ]
  },
  {
   "cell_type": "markdown",
   "id": "9c257795",
   "metadata": {},
   "source": [
    "Notice that the model can predict a class that has an estimated probability below\n",
    "50%. For example, at the point where all decision boundaries meet, all classes have an\n",
    "equal estimated probability of 33%."
   ]
  },
  {
   "cell_type": "code",
   "execution_count": null,
   "id": "7776d5af",
   "metadata": {},
   "outputs": [],
   "source": []
  }
 ],
 "metadata": {
  "kernelspec": {
   "display_name": "Python 3 (ipykernel)",
   "language": "python",
   "name": "python3"
  },
  "language_info": {
   "codemirror_mode": {
    "name": "ipython",
    "version": 3
   },
   "file_extension": ".py",
   "mimetype": "text/x-python",
   "name": "python",
   "nbconvert_exporter": "python",
   "pygments_lexer": "ipython3",
   "version": "3.9.12"
  }
 },
 "nbformat": 4,
 "nbformat_minor": 5
}
