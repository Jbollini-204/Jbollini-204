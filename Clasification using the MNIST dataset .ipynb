{
 "cells": [
  {
   "cell_type": "markdown",
   "id": "6eb3d500",
   "metadata": {},
   "source": [
    "## Clasification Models\n",
    "### using MNIST dataset - Number recognition"
   ]
  },
  {
   "cell_type": "code",
   "execution_count": 28,
   "id": "a78eac06",
   "metadata": {},
   "outputs": [],
   "source": [
    "from sklearn.datasets import load_digits\n",
    "import pandas as pd\n",
    "import matplotlib\n",
    "import matplotlib.pyplot as plt\n",
    "import numpy as np"
   ]
  },
  {
   "cell_type": "code",
   "execution_count": 20,
   "id": "9939efe5",
   "metadata": {},
   "outputs": [],
   "source": [
    "def sort_by_target(mnist):\n",
    "    reorder_train = np.array(sorted([(target, i) for i, target in enumerate(mnist.target[:60000])]))[:, 1]\n",
    "    reorder_test = np.array(sorted([(target, i) for i, target in enumerate(mnist.target[60000:])]))[:, 1]\n",
    "    mnist.data[:60000] = mnist.data[reorder_train]\n",
    "    mnist.target[:60000] = mnist.target[reorder_train]\n",
    "    mnist.data[60000:] = mnist.data[reorder_test + 60000]\n",
    "    mnist.target[60000:] = mnist.target[reorder_test + 60000]"
   ]
  },
  {
   "cell_type": "code",
   "execution_count": 23,
   "id": "cfff6721",
   "metadata": {},
   "outputs": [
    {
     "data": {
      "text/plain": [
       "(array([[0., 0., 0., ..., 0., 0., 0.],\n",
       "        [0., 0., 0., ..., 0., 0., 0.],\n",
       "        [0., 0., 0., ..., 0., 0., 0.],\n",
       "        ...,\n",
       "        [0., 0., 0., ..., 0., 0., 0.],\n",
       "        [0., 0., 0., ..., 0., 0., 0.],\n",
       "        [0., 0., 0., ..., 0., 0., 0.]]),\n",
       " array([0, 0, 0, ..., 9, 9, 9], dtype=int8))"
      ]
     },
     "execution_count": 23,
     "metadata": {},
     "output_type": "execute_result"
    }
   ],
   "source": [
    "try:\n",
    "    from sklearn.datasets import fetch_openml\n",
    "    mnist = fetch_openml('mnist_784', version=1, cache=True, as_frame=False)\n",
    "    mnist.target = mnist.target.astype(np.int8) # fetch_openml() returns targets as strings\n",
    "    sort_by_target(mnist) # fetch_openml() returns an unsorted dataset\n",
    "except ImportError:\n",
    "    from sklearn.datasets import fetch_mldata\n",
    "    mnist = fetch_mldata('MNIST original')\n",
    "mnist[\"data\"], mnist[\"target\"]"
   ]
  },
  {
   "cell_type": "code",
   "execution_count": 24,
   "id": "26ece838",
   "metadata": {},
   "outputs": [],
   "source": [
    "X =  mnist[\"data\"]\n",
    "y = mnist[\"target\"]"
   ]
  },
  {
   "cell_type": "code",
   "execution_count": 26,
   "id": "35caaec9",
   "metadata": {},
   "outputs": [
    {
     "data": {
      "text/plain": [
       "(70000, 784)"
      ]
     },
     "execution_count": 26,
     "metadata": {},
     "output_type": "execute_result"
    }
   ],
   "source": [
    "X.shape"
   ]
  },
  {
   "cell_type": "code",
   "execution_count": 29,
   "id": "61ace0e6",
   "metadata": {},
   "outputs": [
    {
     "data": {
      "image/png": "[encoded data removed]",
      "text/plain": [
       "<Figure size 432x288 with 1 Axes>"
      ]
     },
     "metadata": {
      "needs_background": "light"
     },
     "output_type": "display_data"
    }
   ],
   "source": [
    "%matplotlib inline\n",
    "import matplotlib.pyplot as plt\n",
    "\n",
    "some_digit = X[36000]   # feature vector of ocurrence 36000\n",
    "some_digit_image = some_digit.reshape(28, 28) #reshape it to a 28x28 array\n",
    "plt.imshow(some_digit_image, cmap = matplotlib.cm.binary, # Plot\n",
    "interpolation=\"nearest\")\n",
    "plt.axis(\"off\")\n",
    "plt.show()"
   ]
  },
  {
   "cell_type": "code",
   "execution_count": 30,
   "id": "6a5b014b",
   "metadata": {},
   "outputs": [],
   "source": [
    "# the set is already split into train and test: \n",
    "X_train, X_test, y_train, y_test = X[:60000], X[60000:], y[:60000], y[60000:]"
   ]
  },
  {
   "cell_type": "code",
   "execution_count": 31,
   "id": "4d2f236a",
   "metadata": {},
   "outputs": [],
   "source": [
    "# Shuffle the training set, as some algorithms are sensitive to find many same obs in a row:\n",
    "shuffle_index = np.random.permutation(60000)\n",
    "X_train, y_train = X_train[shuffle_index], y_train[shuffle_index]"
   ]
  },
  {
   "cell_type": "markdown",
   "id": "bb0ed683",
   "metadata": {},
   "source": [
    "### Binary Classifier\n",
    "#### We want to identify one number vs all others. "
   ]
  },
  {
   "cell_type": "code",
   "execution_count": 32,
   "id": "029518a7",
   "metadata": {},
   "outputs": [],
   "source": [
    "# Target vectors:\n",
    "y_train_2 = (y_train == 2) # True for all 2\n",
    "y_test_2 = (y_test == 2) # True for all 2"
   ]
  },
  {
   "cell_type": "code",
   "execution_count": 34,
   "id": "d26f6743",
   "metadata": {},
   "outputs": [
    {
     "data": {
      "text/plain": [
       "SGDClassifier(random_state=42)"
      ]
     },
     "execution_count": 34,
     "metadata": {},
     "output_type": "execute_result"
    }
   ],
   "source": [
    "# Stochastic Gradient Descent: this classifier handle big datasets efficiently as the training instances\n",
    "# are independent , and used one at a time\n",
    "\n",
    "from sklearn.linear_model import SGDClassifier\n",
    "sgd_clf = SGDClassifier(random_state=42) # relies on randomness during training - thats why we need the random state\n",
    "sgd_clf.fit(X_train, y_train_2)"
   ]
  },
  {
   "cell_type": "code",
   "execution_count": 36,
   "id": "baf1a4ba",
   "metadata": {},
   "outputs": [
    {
     "data": {
      "text/plain": [
       "array([False])"
      ]
     },
     "execution_count": 36,
     "metadata": {},
     "output_type": "execute_result"
    }
   ],
   "source": [
    "sgd_clf.predict([some_digit]) # We already know this one is a 5 and not a 2"
   ]
  },
  {
   "cell_type": "markdown",
   "id": "458bf160",
   "metadata": {},
   "source": [
    "####  Model Accuracy using Cross Validation:\n",
    "Cross validation is a resampling process where the sample data is split in k folds ( that is why is often called 'Kfold cross validation') What we want to do is test the model in unseen data . That is, to use a limited sample in order to estimate how the model is expected to perform in general when used to make predictions on data not used during the training of the model. We need the model to be generalizable.  \n",
    "Each fold, should contain a representative ratio of each class. "
   ]
  },
  {
   "cell_type": "code",
   "execution_count": 38,
   "id": "f109e2de",
   "metadata": {},
   "outputs": [
    {
     "name": "stdout",
     "output_type": "stream",
     "text": [
      "0.97295\n",
      "0.97085\n",
      "0.9757\n"
     ]
    }
   ],
   "source": [
    "# One option is to use cross_val_score() or to implement it by hand - lets see both\n",
    "\n",
    "from sklearn.model_selection import StratifiedKFold # method that performs the stratified sampling\n",
    "from sklearn.base import clone\n",
    "\n",
    "skfolds = StratifiedKFold(n_splits=3)\n",
    "for train_index, test_index in skfolds.split(X_train, y_train_2):\n",
    "    clone_clf = clone(sgd_clf)\n",
    "    X_train_folds = X_train[train_index]\n",
    "    y_train_folds = (y_train_2[train_index])\n",
    "    X_test_fold = X_train[test_index]\n",
    "    y_test_fold = (y_train_2[test_index])\n",
    "    clone_clf.fit(X_train_folds, y_train_folds)\n",
    "    y_pred = clone_clf.predict(X_test_fold)\n",
    "    n_correct = sum(y_pred == y_test_fold)\n",
    "    print(n_correct / len(y_pred)) \n"
   ]
  },
  {
   "cell_type": "code",
   "execution_count": 40,
   "id": "71c5497c",
   "metadata": {},
   "outputs": [
    {
     "data": {
      "text/plain": [
       "array([0.97295, 0.97085, 0.9757 ])"
      ]
     },
     "execution_count": 40,
     "metadata": {},
     "output_type": "execute_result"
    }
   ],
   "source": [
    "#Other option is to use cross_val_score() again with 3 folds\n",
    "from sklearn.model_selection import cross_val_score\n",
    "cross_val_score(sgd_clf, X_train, y_train_2, cv=3, scoring=\"accuracy\") \n",
    "\n",
    "\n",
    "# Accuracy score is same as the jaccard score as this is binary classification.\n",
    "# Returns counts the number of corrected classified samples\n",
    "# As we can see is the same result as manually\n",
    "# for the 3 folds, we can successfully identify the 2 in the dataset roughly 97% of the time"
   ]
  },
  {
   "cell_type": "code",
   "execution_count": 49,
   "id": "916b38e7",
   "metadata": {},
   "outputs": [
    {
     "data": {
      "text/plain": [
       "array([0.89975, 0.9036 , 0.89875])"
      ]
     },
     "execution_count": 49,
     "metadata": {},
     "output_type": "execute_result"
    }
   ],
   "source": [
    "# Lets also evaluate the non 2s accuracy:\n",
    "from sklearn.base import BaseEstimator\n",
    "class Never2Classifier(BaseEstimator):\n",
    "    def fit(self, X, y=None):\n",
    "        pass\n",
    "    def predict(self, X):\n",
    "        return np.zeros((len(X), 1), dtype=bool)\n",
    "    \n",
    "never_2_clf = Never2Classifier()\n",
    "cross_val_score(never_2_clf, X_train, y_train_2, cv=3, scoring=\"accuracy\")\n",
    "# since only 10% of the images are 2, we always have the 90% chance of guessing it right\n",
    "# Maybe 'Accuracy' is not the best classsifier in this case, when some classes are more frequent than others \n",
    "# like in this case, there much more non 2 than 2 "
   ]
  },
  {
   "cell_type": "markdown",
   "id": "4df502c9",
   "metadata": {},
   "source": [
    "####  Model Accuracy using Monte Carlo Cross-Validation:\n",
    "\n",
    "Also known as repeated random subsampling CV: the datasets get randomly partitioned into training and validation sets.\n",
    "Steps:\n",
    "1. Split training data randomly (maybe 70–30% split or 62.5–37.5% split or 86.3–13.7%split). For each iteration, the train-test split percentage is different. If the % do not sum 100, the remaining observations will not be used. \n",
    "Fit the model on train data set for that iteration and calculate test error using the fitted model on test data\n",
    "2. Repeat many iterations (say 100 or 500 or even 1000 iterations) and take the average of the test errors.\n",
    "Note - the same data can be selected more than once in the test set or even never at all.\n",
    "\n",
    "This procedure is not great for non balanced datasets, meaning that it works better when we have the same amout of observations of each class. In Mnist example, we have equal observations of each number so we are fine"
   ]
  },
  {
   "cell_type": "code",
   "execution_count": 45,
   "id": "6a905016",
   "metadata": {},
   "outputs": [
    {
     "name": "stdout",
     "output_type": "stream",
     "text": [
      "cross Validation scores:n [0.97344444 0.97227778 0.96361111]\n",
      "Average Cross Validation score :0.9697777777777778\n"
     ]
    }
   ],
   "source": [
    "# We only have to define ShuffleSplit and replace it cv\n",
    "from sklearn.model_selection import ShuffleSplit\n",
    "cv = ShuffleSplit(n_splits=3, test_size=0.3, random_state=0)\n",
    "scores = cross_val_score(sgd_clf, X_train, y_train_2,cv=cv)\n",
    "\n",
    "print(\"cross Validation scores:n {}\".format(scores))\n",
    "print(\"Average Cross Validation score :{}\".format(scores.mean()))"
   ]
  },
  {
   "cell_type": "markdown",
   "id": "7f2d39c1",
   "metadata": {},
   "source": [
    "With Monte carlo cross validation the score is a little lower than with kfold CV but still in the same range . \n",
    "We could increase the number of splits and look at the average: "
   ]
  },
  {
   "cell_type": "code",
   "execution_count": 46,
   "id": "321479b3",
   "metadata": {},
   "outputs": [
    {
     "name": "stdout",
     "output_type": "stream",
     "text": [
      "Average Cross Validation score :0.9648694444444447\n"
     ]
    }
   ],
   "source": [
    "cv = ShuffleSplit(n_splits=20, test_size=0.3, random_state=0)\n",
    "scores = cross_val_score(sgd_clf, X_train, y_train_2,cv=cv)\n",
    "\n",
    "print(\"Average Cross Validation score :{}\".format(scores.mean()))"
   ]
  },
  {
   "cell_type": "markdown",
   "id": "fec901ca",
   "metadata": {},
   "source": [
    "### Confusion Matrix\n",
    "Another way to evaluate the clasification performance. Here we count the number of times instances of class A are classified as class B. \n",
    "What we need :\n",
    "1. Set of predictors\n",
    "2. Actual targets\n",
    "3. Using cross_val_predict() function that performs a kfold CV but instead of giving scores, returns predictions made for each fold\n",
    "First we will run this using only test set , and at the very end we could do it with the test set"
   ]
  },
  {
   "cell_type": "code",
   "execution_count": 50,
   "id": "ad65373a",
   "metadata": {},
   "outputs": [],
   "source": [
    "from sklearn.model_selection import cross_val_predict\n",
    "# here we get the predictions\n",
    "y_train_pred = cross_val_predict(sgd_clf, X_train, y_train_2, cv=3)"
   ]
  },
  {
   "cell_type": "code",
   "execution_count": 61,
   "id": "cd192917",
   "metadata": {},
   "outputs": [
    {
     "data": {
      "text/plain": [
       "array([[53308,   734],\n",
       "       [  876,  5082]])"
      ]
     },
     "execution_count": 61,
     "metadata": {},
     "output_type": "execute_result"
    }
   ],
   "source": [
    "from sklearn.metrics import confusion_matrix\n",
    "#confusion_matrix(y_train_2, y_train_pred)\n",
    "confusion_matrix(y_train_2, y_train_pred)"
   ]
  },
  {
   "cell_type": "markdown",
   "id": "8013c797",
   "metadata": {},
   "source": [
    "#### Precision and Recall"
   ]
  },
  {
   "cell_type": "code",
   "execution_count": 75,
   "id": "80c47129",
   "metadata": {},
   "outputs": [
    {
     "name": "stdout",
     "output_type": "stream",
     "text": [
      "Precision is :0.8737964236588721\n",
      "TPR is :0.8529707955689829\n"
     ]
    }
   ],
   "source": [
    "# Precision : Accuracy of the positive predictions - Can also be called specificity\n",
    "# TP/(TP+FP)\n",
    "tp = confusion_matrix_df.iloc[1][1]\n",
    "fp = confusion_matrix_df.iloc[0][1]\n",
    "print('Precision is :'+ str(tp/(tp+fp)))\n",
    "\n",
    "# Recall or Sensitivity or TPR True positive rate:\n",
    "# Ratio of positive instances correctly detected by the clasifier\n",
    "# TP/TP+FN\n",
    "fn = confusion_matrix_df.iloc[1][0]\n",
    "print('TPR is :'+ str(tp/(tp+fn)))\n"
   ]
  },
  {
   "cell_type": "code",
   "execution_count": 78,
   "id": "b1c6bd31",
   "metadata": {},
   "outputs": [
    {
     "name": "stdout",
     "output_type": "stream",
     "text": [
      "0.8737964236588721\n",
      "0.8529707955689829\n"
     ]
    }
   ],
   "source": [
    "# We can also calculate precision and Recall using scikit learn:\n",
    "from sklearn.metrics import precision_score, recall_score\n",
    "print(precision_score(y_train_2, y_train_pred))\n",
    "print(recall_score(y_train_2, y_train_pred))\n"
   ]
  },
  {
   "cell_type": "markdown",
   "id": "f68b6a39",
   "metadata": {},
   "source": [
    "Recall means :I am able to identify Actual positives 85% of the time.\n",
    "\n",
    "Precision means: When I predict a 2,I am right 87% of the time.\n",
    "\n",
    "Depending on the problem you might be willing to sacrifice precission in pos of recall. For example in disease diagnosis, I would like to have the least false negatives possible. Meaning , I am not able to ideantify the disease and the patient do not get treatment. In that case, I want the recall to be the highest. But maybe I dont care that much about the precision. I rather 'over diagnose' that leave people untreated. "
   ]
  },
  {
   "cell_type": "code",
   "execution_count": 83,
   "id": "1861d1b8",
   "metadata": {},
   "outputs": [
    {
     "name": "stdout",
     "output_type": "stream",
     "text": [
      "0.8632580261593341\n"
     ]
    }
   ],
   "source": [
    "# Combined metric F1: HARMONIC MEAN: giving more weight to low values\n",
    "# F1 is low only if BOTH recall and precision are high\n",
    "# it will depend on the problem, if you either want more precsion or more recall\n",
    "# TP /(TP+((FN+FP)/2))\n",
    "F1 = tp /(tp+((fn+fp)/2))\n",
    "print(F1)"
   ]
  },
  {
   "cell_type": "code",
   "execution_count": 82,
   "id": "c4236ca7",
   "metadata": {},
   "outputs": [
    {
     "data": {
      "text/plain": [
       "0.8632580261593341"
      ]
     },
     "execution_count": 82,
     "metadata": {},
     "output_type": "execute_result"
    }
   ],
   "source": [
    "# Or using scikit learn:\n",
    "from sklearn.metrics import f1_score\n",
    "f1_score(y_train_2, y_train_pred)"
   ]
  },
  {
   "cell_type": "markdown",
   "id": "e6500107",
   "metadata": {},
   "source": [
    "#### Precision and Recall tradeoff\n",
    "to exemplify we will use the method decision_function(), this will retrieve the score for each instance\n",
    "so we can define the threshold neede for the decision and evaluate the trade off"
   ]
  },
  {
   "cell_type": "code",
   "execution_count": 89,
   "id": "b4deb6f0",
   "metadata": {},
   "outputs": [
    {
     "data": {
      "text/plain": [
       "array([False])"
      ]
     },
     "execution_count": 89,
     "metadata": {},
     "output_type": "execute_result"
    }
   ],
   "source": [
    "y_scores = sgd_clf.decision_function([some_digit]) #remember 'some_digit' is a 5\n",
    "y_scores\n",
    "threshold = 0\n",
    "y_some_digit_pred = (y_scores > threshold)\n",
    "y_some_digit_pred"
   ]
  },
  {
   "cell_type": "code",
   "execution_count": 90,
   "id": "03631628",
   "metadata": {},
   "outputs": [
    {
     "data": {
      "text/plain": [
       "array([False])"
      ]
     },
     "execution_count": 90,
     "metadata": {},
     "output_type": "execute_result"
    }
   ],
   "source": [
    "#higher threshold\n",
    "threshold = 200000\n",
    "y_some_digit_pred = (y_scores > threshold)\n",
    "y_some_digit_pred"
   ]
  },
  {
   "cell_type": "code",
   "execution_count": 92,
   "id": "2d796bbe",
   "metadata": {},
   "outputs": [],
   "source": [
    "# lets get all the scores for all instances:\n",
    "y_scores = cross_val_predict(sgd_clf, X_train, y_train_2, cv=3,method=\"decision_function\")\n",
    "# Calculating precision and recall:\n",
    "from sklearn.metrics import precision_recall_curve\n",
    "precisions, recalls, thresholds = precision_recall_curve(y_train_2, y_scores)"
   ]
  },
  {
   "cell_type": "code",
   "execution_count": 94,
   "id": "98b1b90f",
   "metadata": {},
   "outputs": [
    {
     "data": {
      "image/png": "[encoded data removed]",
      "text/plain": [
       "<Figure size 432x288 with 1 Axes>"
      ]
     },
     "metadata": {
      "needs_background": "light"
     },
     "output_type": "display_data"
    }
   ],
   "source": [
    "#plot the trade off\n",
    "def plot_precision_recall_vs_threshold(precisions, recalls, thresholds):\n",
    "    plt.plot(thresholds, precisions[:-1], \"b--\", label=\"Precision\")\n",
    "    plt.plot(thresholds, recalls[:-1], \"g-\", label=\"Recall\")\n",
    "    plt.xlabel(\"Threshold\")\n",
    "    plt.legend(loc=\"upper left\")\n",
    "    plt.ylim([0, 1])\n",
    "plot_precision_recall_vs_threshold(precisions, recalls, thresholds)\n",
    "plt.show()\n"
   ]
  },
  {
   "cell_type": "markdown",
   "id": "075fd48e",
   "metadata": {},
   "source": [
    "As the threshold is higher, precision increase but recall decrease. with a higher th we are more likely to find more true positives, but also false negatives. \n",
    "Which is the best threshold ? "
   ]
  },
  {
   "cell_type": "markdown",
   "id": "b7d1925e",
   "metadata": {},
   "source": [
    "### ROC curve (receiver operating characteristic)\n",
    "\n",
    "Plot True positive rate (Recall or sensitivity) vs False positive rate (1-true negative rate or 1-specificity)\n",
    "\n",
    "First  we need to compute TPR and FPR for many th's ..\n",
    "\n",
    "We can use roc_curve()\n"
   ]
  },
  {
   "cell_type": "code",
   "execution_count": 97,
   "id": "73747c00",
   "metadata": {},
   "outputs": [],
   "source": [
    "from sklearn.metrics import roc_curve,roc_auc_score\n",
    "fpr, tpr, thresholds = roc_curve(y_train_2, y_scores)"
   ]
  },
  {
   "cell_type": "code",
   "execution_count": 96,
   "id": "8640215d",
   "metadata": {},
   "outputs": [
    {
     "data": {
      "image/png": "[encoded data removed]",
      "text/plain": [
       "<Figure size 432x288 with 1 Axes>"
      ]
     },
     "metadata": {
      "needs_background": "light"
     },
     "output_type": "display_data"
    }
   ],
   "source": [
    "def plot_roc_curve(fpr, tpr, label=None):\n",
    "    plt.plot(fpr, tpr, linewidth=2, label=label)\n",
    "    plt.plot([0, 1], [0, 1], 'k--')\n",
    "    plt.axis([0, 1, 0, 1])\n",
    "    plt.xlabel('False Positive Rate')\n",
    "    plt.ylabel('True Positive Rate')\n",
    "plot_roc_curve(fpr, tpr)\n",
    "plt.show()"
   ]
  },
  {
   "cell_type": "markdown",
   "id": "4c23f0f5",
   "metadata": {},
   "source": [
    "The higher the Recall or TPR the more false possitives (FPR) we will have too. \n",
    "the dotted line is a random classifier, we want to stay the furthest away from it possible. \n",
    "Area under the curve or AUC : if AUC=1 then we have the perfect classifier, where we only predict positives when they are and the FP are zero. If AUC = 0 then our model performs the same as a random classifier. "
   ]
  },
  {
   "cell_type": "code",
   "execution_count": 98,
   "id": "c7116ab7",
   "metadata": {},
   "outputs": [
    {
     "data": {
      "text/plain": [
       "0.9732413188161099"
      ]
     },
     "execution_count": 98,
     "metadata": {},
     "output_type": "execute_result"
    }
   ],
   "source": [
    "AUC = roc_auc_score(y_train_2, y_scores)\n",
    "AUC"
   ]
  },
  {
   "cell_type": "markdown",
   "id": "0a31d028",
   "metadata": {},
   "source": [
    "Rule of Thumb for which method to use: PR curve is  better when the positive class is rare and you care more about the false positives than the false negatives. ROC curve works better otherwise. That is why also why the context and the final goal of the analysis is so important.  "
   ]
  },
  {
   "cell_type": "markdown",
   "id": "63837cd7",
   "metadata": {},
   "source": [
    "### Multiclass Classifier or Multinomial classifier : \n",
    "Can distingish between more than 2 classes. \n",
    "We could use Random Forest Classifier, or naive Bayes\n",
    "\n",
    "'One-versus-all' : we could also run multiple binary classifiers, you get the score for each classifier and each instance, and chose the one with the higher score. It would be the one with highest chances to be True positive. We run few classifiers in the big dataset. This is the default used in scikit learn. \n",
    "\n",
    "'One-versus-One': train a binary classifier for pairs of digits( in the mnist example). If there are N classes, you would need N(N-1)/2 clasifiers. in Mnist we need 45 classifiers running in small training sets.  SVM we preffer OvO"
   ]
  },
  {
   "cell_type": "code",
   "execution_count": 100,
   "id": "a6c5a428",
   "metadata": {},
   "outputs": [
    {
     "data": {
      "text/plain": [
       "SGDClassifier(random_state=42)"
      ]
     },
     "execution_count": 100,
     "metadata": {},
     "output_type": "execute_result"
    }
   ],
   "source": [
    "# its just a matter of using the entire datasets and it will do a one versus all\n",
    "# Under the hood, Scikit-Learn actually trained 10 binary classifiers, got their decision scores for the\n",
    "# image, and selected the class with the highest score\n",
    "sgd_clf.fit(X_train, y_train)\n",
    "sgd_clf.predict([some_digit])"
   ]
  },
  {
   "cell_type": "code",
   "execution_count": 101,
   "id": "06656e08",
   "metadata": {},
   "outputs": [
    {
     "name": "stdout",
     "output_type": "stream",
     "text": [
      "[[ -7256.26167808 -51172.39069351  -9749.84884904  -3434.51166514\n",
      "  -12492.76731225   3553.57847675 -32048.03406993 -24181.42810204\n",
      "  -13516.21895961 -11197.77478857]]\n",
      "5\n"
     ]
    }
   ],
   "source": [
    "some_digit_scores = sgd_clf.decision_function([some_digit]) # returns 10 scores one for each binary classificator\n",
    "# the highers should be the one for 5 as that is the number\n",
    "print(some_digit_scores)\n",
    "print(np.argmax(some_digit_scores))"
   ]
  },
  {
   "cell_type": "code",
   "execution_count": 103,
   "id": "7cee7305",
   "metadata": {},
   "outputs": [
    {
     "name": "stdout",
     "output_type": "stream",
     "text": [
      "[5]\n",
      "45\n"
     ]
    }
   ],
   "source": [
    "# If we want to force it to use OvO:\n",
    "from sklearn.multiclass import OneVsOneClassifier\n",
    "ovo_clf = OneVsOneClassifier(SGDClassifier(random_state=42))\n",
    "ovo_clf.fit(X_train, y_train)\n",
    "print(ovo_clf.predict([some_digit])) # the classification\n",
    "print(len(ovo_clf.estimators_)) #How many estimators?\n"
   ]
  },
  {
   "cell_type": "markdown",
   "id": "894fabe3",
   "metadata": {},
   "source": [
    "### Random Forest Classifier : no need for OvO or OvA as the random forest is multinomial classificiation:\n",
    "\n",
    "Random Forest classification consists of a large number of decision trees that operates as an ensemble. Each individual tree in the random forest splits out a class prediction and the class with the most votes becomes our model’s prediction. \n",
    "\n",
    "The low correlation between models is the key. Uncorrelated models can produce ensemble predictions that are more accurate than any of the individual predictions. The reason for this is that the trees protect each other from their individual errors (as long as they don’t constantly all err in the same direction). While some trees may be wrong, many other trees will be right, so as a group the trees are able to move in the correct direction."
   ]
  },
  {
   "cell_type": "code",
   "execution_count": 106,
   "id": "7a40e0d3",
   "metadata": {},
   "outputs": [
    {
     "name": "stdout",
     "output_type": "stream",
     "text": [
      "[[0.06 0.   0.   0.04 0.   0.85 0.   0.02 0.02 0.01]]\n"
     ]
    }
   ],
   "source": [
    "from sklearn.ensemble import RandomForestClassifier\n",
    "forest_clf = RandomForestClassifier(random_state=42)\n",
    "y_probas_forest = cross_val_predict(forest_clf, X_train, y_train_2, cv=3,method=\"predict_proba\")\n",
    "\n",
    "forest_clf.fit(X_train, y_train)\n",
    "forest_clf.predict([some_digit])\n",
    "print(forest_clf.predict_proba([some_digit])) # Shows the prediction , In which one is more confident, and which ones \n",
    "# look similar although not the same  - in this case, the model predicts 85% chance is a 5, bt it could be a zero 6% chance"
   ]
  },
  {
   "cell_type": "code",
   "execution_count": 108,
   "id": "3be1931b",
   "metadata": {},
   "outputs": [
    {
     "name": "stdout",
     "output_type": "stream",
     "text": [
      "[0.87665 0.8768  0.8781 ]\n"
     ]
    }
   ],
   "source": [
    "# Finally as usual we want to evaluate how good is our classification:\n",
    "print(cross_val_score(sgd_clf, X_train, y_train, cv=3, scoring=\"accuracy\"))"
   ]
  },
  {
   "cell_type": "markdown",
   "id": "394fdbd0",
   "metadata": {},
   "source": [
    "### ERROR ANALYSIS \n",
    "Maybe we found a promissing model and we want to improve it"
   ]
  },
  {
   "cell_type": "code",
   "execution_count": 109,
   "id": "797546b7",
   "metadata": {},
   "outputs": [],
   "source": [
    "# lets scale the data first, just because it will give better results - ALWAYS SCALE!\n",
    "from sklearn.preprocessing import StandardScaler\n",
    "scaler = StandardScaler()\n",
    "X_train_scaled = scaler.fit_transform(X_train.astype(np.float64))\n",
    "# getting the confusion matrix\n",
    "y_train_pred = cross_val_predict(sgd_clf, X_train_scaled, y_train, cv=3)\n",
    "conf_mx = confusion_matrix(y_train, y_train_pred)\n",
    "conf_mx"
   ]
  },
  {
   "cell_type": "code",
   "execution_count": 114,
   "id": "a2d4c0d0",
   "metadata": {},
   "outputs": [
    {
     "data": {
      "text/plain": [
       "array([[5579,    0,   22,    6,    8,   49,   29,    5,  224,    1],\n",
       "       [   0, 6427,   44,   22,    3,   42,    5,    8,  182,    9],\n",
       "       [  27,   29, 5248,   87,   69,   22,   70,   41,  353,   12],\n",
       "       [  24,   21,  126, 5240,    0,  204,   26,   42,  384,   64],\n",
       "       [  10,   13,   43,   11, 5238,    8,   33,   25,  309,  152],\n",
       "       [  27,   18,   32,  149,   49, 4497,   77,   18,  487,   67],\n",
       "       [  27,   19,   49,    3,   41,   94, 5532,    7,  146,    0],\n",
       "       [  20,   12,   54,   22,   51,   10,    5, 5723,  173,  195],\n",
       "       [  15,   64,   40,   90,    2,  124,   26,    7, 5441,   42],\n",
       "       [  26,   21,   28,   61,  122,   34,    1,  172,  327, 5157]])"
      ]
     },
     "execution_count": 114,
     "metadata": {},
     "output_type": "execute_result"
    }
   ],
   "source": [
    "conf_mx = confusion_matrix(y_train, y_train_pred)\n",
    "conf_mx"
   ]
  },
  {
   "cell_type": "code",
   "execution_count": 112,
   "id": "996acb2a",
   "metadata": {},
   "outputs": [
    {
     "data": {
      "image/png": "[encoded data removed]",
      "text/plain": [
       "<Figure size 288x288 with 1 Axes>"
      ]
     },
     "metadata": {
      "needs_background": "light"
     },
     "output_type": "display_data"
    }
   ],
   "source": [
    "# Visualizing it better:\n",
    "plt.matshow(confusion_matrix(y_train, y_train_pred), cmap=plt.cm.gray)\n",
    "plt.show()"
   ]
  },
  {
   "cell_type": "markdown",
   "id": "d0b2b637",
   "metadata": {},
   "source": [
    "The greys in the diagonal show that the algorithms predict pretty well, maybe having some trouble detecting fives. "
   ]
  },
  {
   "cell_type": "code",
   "execution_count": 118,
   "id": "ca994886",
   "metadata": {},
   "outputs": [
    {
     "name": "stdout",
     "output_type": "stream",
     "text": [
      "[[5923]\n",
      " [6742]\n",
      " [5958]\n",
      " [6131]\n",
      " [5842]\n",
      " [5421]\n",
      " [5918]\n",
      " [6265]\n",
      " [5851]\n",
      " [5949]]\n"
     ]
    },
    {
     "data": {
      "image/png": "[encoded data removed]",
      "text/plain": [
       "<Figure size 288x288 with 1 Axes>"
      ]
     },
     "metadata": {
      "needs_background": "light"
     },
     "output_type": "display_data"
    },
    {
     "name": "stdout",
     "output_type": "stream",
     "text": [
      "[[0.         0.         0.00371433 0.001013   0.00135067 0.00827283\n",
      "  0.00489617 0.00084417 0.03781867 0.00016883]\n",
      " [0.         0.         0.00652625 0.00326313 0.00044497 0.00622961\n",
      "  0.00074162 0.00118659 0.02699496 0.00133492]\n",
      " [0.00453172 0.00486741 0.         0.01460222 0.01158107 0.00369251\n",
      "  0.01174891 0.0068815  0.05924807 0.0020141 ]\n",
      " [0.00391453 0.00342522 0.0205513  0.         0.         0.03327353\n",
      "  0.00424074 0.00685043 0.06263252 0.01043875]\n",
      " [0.00171174 0.00222527 0.00736049 0.00188292 0.         0.00136939\n",
      "  0.00564875 0.00427936 0.05289284 0.02601849]\n",
      " [0.00498063 0.00332042 0.00590297 0.0274857  0.00903892 0.\n",
      "  0.01420402 0.00332042 0.08983582 0.01235934]\n",
      " [0.00456235 0.00321054 0.00827982 0.00050693 0.00692802 0.01588374\n",
      "  0.         0.00118283 0.0246705  0.        ]\n",
      " [0.00319234 0.0019154  0.00861931 0.00351157 0.00814046 0.00159617\n",
      "  0.00079808 0.         0.02761373 0.0311253 ]\n",
      " [0.00256366 0.0109383  0.00683644 0.01538199 0.00034182 0.02119296\n",
      "  0.00444368 0.00119638 0.         0.00717826]\n",
      " [0.00437048 0.00353001 0.00470667 0.01025382 0.02050765 0.00571525\n",
      "  0.0001681  0.02891242 0.05496722 0.        ]]\n"
     ]
    }
   ],
   "source": [
    "# divide each value in the confusion matrix by the number of images in the corresponding class, \n",
    "# so as to compare error rates instead of absolute number of errors\n",
    "row_sums = conf_mx.sum(axis=1, keepdims=True)\n",
    "norm_conf_mx = conf_mx / row_sums\n",
    "\n",
    "print(row_sums) # the total number of obs of each class \n",
    "\n",
    "\n",
    "# then lets just put 0 in te diagonal so as to focus on errors:\n",
    "np.fill_diagonal(norm_conf_mx, 0)\n",
    "plt.matshow(norm_conf_mx, cmap=plt.cm.gray)\n",
    "# Rows are the actuals, and columns are the predicted\n",
    "plt.show()\n",
    "print(norm_conf_mx) # filled with 0 in the diagonal"
   ]
  },
  {
   "cell_type": "markdown",
   "id": "348e1fda",
   "metadata": {},
   "source": [
    "Column wise : Mostly numbers 8 and 9 are predicted erroneously. We think they are 8 or 9 but they are not\n",
    "while 1 and 2 , are pretty dark which means its mostly correct with we predict 1 or 2\n",
    "\n",
    "Row wise: 8 and 9 are also brighter than the rest, meaning that we also have trouble identifying correctly 8 and 9. \n",
    "\n",
    "It could be useful to get more data for 8 and 9 so they are classified better"
   ]
  },
  {
   "cell_type": "markdown",
   "id": "9576ed1c",
   "metadata": {},
   "source": [
    "## Multilabel Classification : multiple classes for one instance\n",
    "\n",
    "Example with KNeighborsClassifier : The KNN algorithm assumes that similar things exist in close proximity. In other words, similar things are near to each other. \n",
    "Steps of the algorithm:The KNN Algorithm\n",
    "1. Load the data\n",
    "2. Initialize K to your chosen number of neighbors\n",
    "3. For each example in the data\n",
    "\n",
    "   3.1 Calculate the distance between the query example and the current example from the data.\n",
    "   \n",
    "   3.2 Add the distance and the index of the example to an ordered collection\n",
    "4. Sort the ordered collection of distances and indices from smallest to largest (in ascending order) by the distances\n",
    "5. Pick the first K entries from the sorted collection\n",
    "6. Get the labels of the selected K entries\n",
    "7. If regression, return the mean of the K labels\n",
    "8. If classification, return the mode of the K labels"
   ]
  },
  {
   "cell_type": "code",
   "execution_count": 120,
   "id": "6839918b",
   "metadata": {},
   "outputs": [
    {
     "data": {
      "text/plain": [
       "KNeighborsClassifier()"
      ]
     },
     "execution_count": 120,
     "metadata": {},
     "output_type": "execute_result"
    }
   ],
   "source": [
    "from sklearn.neighbors import KNeighborsClassifier\n",
    "\n",
    "# Create a y_multilabel that has 2 targets : large number and odd number\n",
    "\n",
    "y_train_large = (y_train >= 7)\n",
    "y_train_odd = (y_train % 2 == 1)\n",
    "y_multilabel = np.c_[y_train_large, y_train_odd]\n",
    "knn_clf = KNeighborsClassifier()\n",
    "knn_clf.fit(X_train, y_multilabel)"
   ]
  },
  {
   "cell_type": "code",
   "execution_count": 122,
   "id": "8780dba0",
   "metadata": {},
   "outputs": [
    {
     "data": {
      "text/plain": [
       "array([[False,  True]])"
      ]
     },
     "execution_count": 122,
     "metadata": {},
     "output_type": "execute_result"
    }
   ],
   "source": [
    "# Lets make a prediction:\n",
    "knn_clf.predict([some_digit]) # the number is small and odd"
   ]
  },
  {
   "cell_type": "code",
   "execution_count": 123,
   "id": "84291684",
   "metadata": {},
   "outputs": [
    {
     "data": {
      "text/plain": [
       "0.9676151757431735"
      ]
     },
     "execution_count": 123,
     "metadata": {},
     "output_type": "execute_result"
    }
   ],
   "source": [
    "# Evaluate the algorithm using the F1 just as before:\n",
    "y_train_knn_pred = cross_val_predict(knn_clf, X_train, y_train, cv=3)\n",
    "f1_score(y_train, y_train_knn_pred, average=\"macro\")\n",
    "# 'macro' : so all labels are equally important\n",
    "# 'weighted' : for example if you have different number of instances for each class"
   ]
  }
 ],
 "metadata": {
  "kernelspec": {
   "display_name": "Python 3 (ipykernel)",
   "language": "python",
   "name": "python3"
  },
  "language_info": {
   "codemirror_mode": {
    "name": "ipython",
    "version": 3
   },
   "file_extension": ".py",
   "mimetype": "text/x-python",
   "name": "python",
   "nbconvert_exporter": "python",
   "pygments_lexer": "ipython3",
   "version": "3.9.12"
  }
 },
 "nbformat": 4,
 "nbformat_minor": 5
}
